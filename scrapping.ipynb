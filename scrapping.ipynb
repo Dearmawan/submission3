{
 "cells": [
  {
   "cell_type": "markdown",
   "metadata": {},
   "source": [
    "## Scraping Dataset ##\n",
    "\n",
    "Pada proyek ini, kita akan melakukan analisis sentimen terhadap ulasan dan opini pengguna mengenai aplikasi ini di platform X (Twitter). Analisis ini bertujuan untuk memahami bagaimana pengguna merasakan dan menyampaikan pandangan mereka terhadap aplikasi tersebut.\n",
    "\n",
    "Dengan menerapkan berbagai teknik pemrosesan teks serta algoritma machine learning, kita akan mengkategorikan sentimen dalam ulasan pengguna sebagai positif, negatif, atau netral. Hasil dari analisis ini dapat memberikan wawasan berharga bagi pengembang aplikasi untuk meningkatkan pengalaman pengguna. Mari kita eksplorasi lebih dalam opini pengguna di X dan menganalisis sentimen yang berkembang di seputar aplikasi ini.\n"
   ]
  },
  {
   "cell_type": "code",
   "execution_count": 2,
   "metadata": {},
   "outputs": [],
   "source": [
    "# Mengimpor pustaka google_play_scraper untuk mengakses ulasan dan informasi aplikasi dari Google Play Store.\n",
    "import pandas as pd \n",
    "from google_play_scraper import app, reviews, Sort, reviews_all"
   ]
  },
  {
   "cell_type": "code",
   "execution_count": null,
   "metadata": {},
   "outputs": [],
   "source": [
    "# Mengambil semua ulasan dari aplikasi dengan ID 'com.twitter.android' di Google Play Store.\n",
    "scrapreview = reviews_all(\n",
    "    'com.shopee.id',          # ID aplikasi\n",
    "    lang='id',             # Bahasa ulasan (default: 'en')\n",
    "    country='id',          # Negara (default: 'us')\n",
    "    sort=Sort.MOST_RELEVANT, # Urutan ulasan (default: Sort.MOST_RELEVANT)\n",
    "    count=100000           # Jumlah maksimum ulasan yang ingin diambil\n",
    ")"
   ]
  },
  {
   "cell_type": "code",
   "execution_count": 4,
   "metadata": {},
   "outputs": [
    {
     "data": {
      "text/html": [
       "<div>\n",
       "<style scoped>\n",
       "    .dataframe tbody tr th:only-of-type {\n",
       "        vertical-align: middle;\n",
       "    }\n",
       "\n",
       "    .dataframe tbody tr th {\n",
       "        vertical-align: top;\n",
       "    }\n",
       "\n",
       "    .dataframe thead th {\n",
       "        text-align: right;\n",
       "    }\n",
       "</style>\n",
       "<table border=\"1\" class=\"dataframe\">\n",
       "  <thead>\n",
       "    <tr style=\"text-align: right;\">\n",
       "      <th></th>\n",
       "      <th>reviewId</th>\n",
       "      <th>userName</th>\n",
       "      <th>userImage</th>\n",
       "      <th>content</th>\n",
       "      <th>score</th>\n",
       "      <th>thumbsUpCount</th>\n",
       "      <th>reviewCreatedVersion</th>\n",
       "      <th>at</th>\n",
       "      <th>replyContent</th>\n",
       "      <th>repliedAt</th>\n",
       "      <th>appVersion</th>\n",
       "    </tr>\n",
       "  </thead>\n",
       "  <tbody>\n",
       "    <tr>\n",
       "      <th>0</th>\n",
       "      <td>ff190850-851e-43b3-935b-775af97635f4</td>\n",
       "      <td>Pengguna Google</td>\n",
       "      <td>https://play-lh.googleusercontent.com/EGemoI2N...</td>\n",
       "      <td>aplikasi nya bagus... banyak diskon besar besa...</td>\n",
       "      <td>4</td>\n",
       "      <td>101</td>\n",
       "      <td>3.46.37</td>\n",
       "      <td>2025-04-01 22:18:54</td>\n",
       "      <td>Hi kak Violita Hasanah, maaf ya udah bikin kam...</td>\n",
       "      <td>2025-04-01 23:18:00</td>\n",
       "      <td>3.46.37</td>\n",
       "    </tr>\n",
       "    <tr>\n",
       "      <th>1</th>\n",
       "      <td>9d318067-d922-4496-a52e-c4e2027863cc</td>\n",
       "      <td>Pengguna Google</td>\n",
       "      <td>https://play-lh.googleusercontent.com/EGemoI2N...</td>\n",
       "      <td>Mohon tolong perbaiki sistem jaringan pada apl...</td>\n",
       "      <td>4</td>\n",
       "      <td>6</td>\n",
       "      <td>3.47.37</td>\n",
       "      <td>2025-04-02 22:10:44</td>\n",
       "      <td>Hi Kak Satrio Wisnu Hardiyanto , Maaf ya untuk...</td>\n",
       "      <td>2025-04-02 22:07:55</td>\n",
       "      <td>3.47.37</td>\n",
       "    </tr>\n",
       "    <tr>\n",
       "      <th>2</th>\n",
       "      <td>8e11b026-dcdf-47cf-a372-ab71f49f3a85</td>\n",
       "      <td>Pengguna Google</td>\n",
       "      <td>https://play-lh.googleusercontent.com/EGemoI2N...</td>\n",
       "      <td>pembelian bagus, tapi untuk menjual barang saa...</td>\n",
       "      <td>3</td>\n",
       "      <td>3</td>\n",
       "      <td>3.46.37</td>\n",
       "      <td>2025-04-02 15:11:38</td>\n",
       "      <td>Hi kak Maulana Hanif, mohon maaf atas ketidakn...</td>\n",
       "      <td>2025-04-02 16:49:33</td>\n",
       "      <td>3.46.37</td>\n",
       "    </tr>\n",
       "    <tr>\n",
       "      <th>3</th>\n",
       "      <td>1391c1f4-0880-437c-87c0-66fb25e543ed</td>\n",
       "      <td>Pengguna Google</td>\n",
       "      <td>https://play-lh.googleusercontent.com/EGemoI2N...</td>\n",
       "      <td>appnya udah bagus, tapi masih ada beberapa yan...</td>\n",
       "      <td>4</td>\n",
       "      <td>43</td>\n",
       "      <td>3.46.37</td>\n",
       "      <td>2025-04-01 18:01:25</td>\n",
       "      <td>Hai kak, terima kasih ya untuk feedbacknya. Ke...</td>\n",
       "      <td>2025-04-01 19:18:42</td>\n",
       "      <td>3.46.37</td>\n",
       "    </tr>\n",
       "    <tr>\n",
       "      <th>4</th>\n",
       "      <td>4e5b3431-922b-4a0d-a226-22d2850dcca7</td>\n",
       "      <td>Pengguna Google</td>\n",
       "      <td>https://play-lh.googleusercontent.com/EGemoI2N...</td>\n",
       "      <td>Sekarang shopee suka ngadat, buka aplikasi lan...</td>\n",
       "      <td>1</td>\n",
       "      <td>202</td>\n",
       "      <td>3.45.60</td>\n",
       "      <td>2025-03-20 09:48:13</td>\n",
       "      <td>Hi Kak Pokki Kucing, maaf  untuk kendala aplik...</td>\n",
       "      <td>2025-03-11 14:31:17</td>\n",
       "      <td>3.45.60</td>\n",
       "    </tr>\n",
       "  </tbody>\n",
       "</table>\n",
       "</div>"
      ],
      "text/plain": [
       "                               reviewId         userName  \\\n",
       "0  ff190850-851e-43b3-935b-775af97635f4  Pengguna Google   \n",
       "1  9d318067-d922-4496-a52e-c4e2027863cc  Pengguna Google   \n",
       "2  8e11b026-dcdf-47cf-a372-ab71f49f3a85  Pengguna Google   \n",
       "3  1391c1f4-0880-437c-87c0-66fb25e543ed  Pengguna Google   \n",
       "4  4e5b3431-922b-4a0d-a226-22d2850dcca7  Pengguna Google   \n",
       "\n",
       "                                           userImage  \\\n",
       "0  https://play-lh.googleusercontent.com/EGemoI2N...   \n",
       "1  https://play-lh.googleusercontent.com/EGemoI2N...   \n",
       "2  https://play-lh.googleusercontent.com/EGemoI2N...   \n",
       "3  https://play-lh.googleusercontent.com/EGemoI2N...   \n",
       "4  https://play-lh.googleusercontent.com/EGemoI2N...   \n",
       "\n",
       "                                             content  score  thumbsUpCount  \\\n",
       "0  aplikasi nya bagus... banyak diskon besar besa...      4            101   \n",
       "1  Mohon tolong perbaiki sistem jaringan pada apl...      4              6   \n",
       "2  pembelian bagus, tapi untuk menjual barang saa...      3              3   \n",
       "3  appnya udah bagus, tapi masih ada beberapa yan...      4             43   \n",
       "4  Sekarang shopee suka ngadat, buka aplikasi lan...      1            202   \n",
       "\n",
       "  reviewCreatedVersion                  at  \\\n",
       "0              3.46.37 2025-04-01 22:18:54   \n",
       "1              3.47.37 2025-04-02 22:10:44   \n",
       "2              3.46.37 2025-04-02 15:11:38   \n",
       "3              3.46.37 2025-04-01 18:01:25   \n",
       "4              3.45.60 2025-03-20 09:48:13   \n",
       "\n",
       "                                        replyContent           repliedAt  \\\n",
       "0  Hi kak Violita Hasanah, maaf ya udah bikin kam... 2025-04-01 23:18:00   \n",
       "1  Hi Kak Satrio Wisnu Hardiyanto , Maaf ya untuk... 2025-04-02 22:07:55   \n",
       "2  Hi kak Maulana Hanif, mohon maaf atas ketidakn... 2025-04-02 16:49:33   \n",
       "3  Hai kak, terima kasih ya untuk feedbacknya. Ke... 2025-04-01 19:18:42   \n",
       "4  Hi Kak Pokki Kucing, maaf  untuk kendala aplik... 2025-03-11 14:31:17   \n",
       "\n",
       "  appVersion  \n",
       "0    3.46.37  \n",
       "1    3.47.37  \n",
       "2    3.46.37  \n",
       "3    3.46.37  \n",
       "4    3.45.60  "
      ]
     },
     "execution_count": 4,
     "metadata": {},
     "output_type": "execute_result"
    }
   ],
   "source": [
    "#Membuat data frame\n",
    "df = pd.DataFrame(scrapreview)\n",
    "df.head()"
   ]
  },
  {
   "cell_type": "code",
   "execution_count": 7,
   "metadata": {},
   "outputs": [
    {
     "name": "stdout",
     "output_type": "stream",
     "text": [
      "<class 'pandas.core.frame.DataFrame'>\n",
      "RangeIndex: 90000 entries, 0 to 89999\n",
      "Data columns (total 11 columns):\n",
      " #   Column                Non-Null Count  Dtype         \n",
      "---  ------                --------------  -----         \n",
      " 0   reviewId              90000 non-null  object        \n",
      " 1   userName              90000 non-null  object        \n",
      " 2   userImage             90000 non-null  object        \n",
      " 3   content               90000 non-null  object        \n",
      " 4   score                 90000 non-null  int64         \n",
      " 5   thumbsUpCount         90000 non-null  int64         \n",
      " 6   reviewCreatedVersion  76840 non-null  object        \n",
      " 7   at                    90000 non-null  datetime64[ns]\n",
      " 8   replyContent          67281 non-null  object        \n",
      " 9   repliedAt             67281 non-null  datetime64[ns]\n",
      " 10  appVersion            76840 non-null  object        \n",
      "dtypes: datetime64[ns](2), int64(2), object(7)\n",
      "memory usage: 7.6+ MB\n"
     ]
    }
   ],
   "source": [
    "df.info()"
   ]
  },
  {
   "cell_type": "code",
   "execution_count": 8,
   "metadata": {},
   "outputs": [],
   "source": [
    "df=df.dropna()"
   ]
  },
  {
   "cell_type": "code",
   "execution_count": 10,
   "metadata": {},
   "outputs": [
    {
     "name": "stdout",
     "output_type": "stream",
     "text": [
      "<class 'pandas.core.frame.DataFrame'>\n",
      "Index: 58563 entries, 0 to 89998\n",
      "Data columns (total 11 columns):\n",
      " #   Column                Non-Null Count  Dtype         \n",
      "---  ------                --------------  -----         \n",
      " 0   reviewId              58563 non-null  object        \n",
      " 1   userName              58563 non-null  object        \n",
      " 2   userImage             58563 non-null  object        \n",
      " 3   content               58563 non-null  object        \n",
      " 4   score                 58563 non-null  int64         \n",
      " 5   thumbsUpCount         58563 non-null  int64         \n",
      " 6   reviewCreatedVersion  58563 non-null  object        \n",
      " 7   at                    58563 non-null  datetime64[ns]\n",
      " 8   replyContent          58563 non-null  object        \n",
      " 9   repliedAt             58563 non-null  datetime64[ns]\n",
      " 10  appVersion            58563 non-null  object        \n",
      "dtypes: datetime64[ns](2), int64(2), object(7)\n",
      "memory usage: 5.4+ MB\n"
     ]
    }
   ],
   "source": [
    "df.info()"
   ]
  },
  {
   "cell_type": "code",
   "execution_count": 11,
   "metadata": {},
   "outputs": [],
   "source": [
    "# Menyimpan ulasan dalam file CSV\n",
    "df.to_csv(\"dataset_reviews.csv\", index=False)\n"
   ]
  }
 ],
 "metadata": {
  "kernelspec": {
   "display_name": "Python 3",
   "language": "python",
   "name": "python3"
  },
  "language_info": {
   "codemirror_mode": {
    "name": "ipython",
    "version": 3
   },
   "file_extension": ".py",
   "mimetype": "text/x-python",
   "name": "python",
   "nbconvert_exporter": "python",
   "pygments_lexer": "ipython3",
   "version": "3.13.2"
  }
 },
 "nbformat": 4,
 "nbformat_minor": 2
}
